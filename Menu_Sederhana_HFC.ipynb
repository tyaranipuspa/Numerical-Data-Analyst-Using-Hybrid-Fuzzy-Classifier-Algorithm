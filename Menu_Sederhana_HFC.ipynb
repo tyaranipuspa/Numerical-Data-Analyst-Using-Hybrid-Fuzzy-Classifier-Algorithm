{
  "nbformat": 4,
  "nbformat_minor": 0,
  "metadata": {
    "colab": {
      "name": "Menu Sederhana HFC.ipynb",
      "provenance": []
    },
    "kernelspec": {
      "name": "python3",
      "display_name": "Python 3"
    }
  },
  "cells": [
    {
      "cell_type": "code",
      "metadata": {
        "id": "WPaD368H3ev5",
        "outputId": "35c0f7ff-c04c-453c-cb25-2b29ceb70fc8",
        "colab": {
          "resources": {
            "http://localhost:8080/nbextensions/google.colab/files.js": {
              "data": "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",
              "ok": true,
              "headers": [
                [
                  "content-type",
                  "application/javascript"
                ]
              ],
              "status": 200,
              "status_text": ""
            }
          },
          "base_uri": "https://localhost:8080/",
          "height": 973
        }
      },
      "source": [
        "from google.colab import files\n",
        "import io\n",
        "import pandas\n",
        "import csv\n",
        "import math\n",
        "from sklearn.model_selection import train_test_split\n",
        "from sklearn.metrics import accuracy_score\n",
        "print(\"                 SELAMAT DATANG\")\n",
        "print(\"================================================\")\n",
        "print(\"1. Masukan dataset\")\n",
        "print(\"2. Klasifikasi\")\n",
        "print(\"3. Hitung akurasi\")\n",
        "print(\"4. Prediksi\")\n",
        "pilihan = \"\" #@param {type:\"string\"}\n",
        "print()\n",
        "print()\n",
        "if pilihan == \"1\":\n",
        "  print(\"pilihan: \", pilihan)\n",
        "  print()\n",
        "  uploaded = files.upload()\n",
        "  def getList(dict): \n",
        "    return list(dict.keys()) \n",
        "  d = getList(uploaded)\n",
        "  data = pandas.read_csv(io.BytesIO(uploaded[d[0]]))\n",
        "  print(\"dataset: \")\n",
        "  print(data)\n",
        "  print()\n",
        "  print()\n",
        "  #split data\n",
        "  dataTrain, dataTest = train_test_split(data, test_size = 0.3)\n",
        "  #buat dataframe kelas training\n",
        "  dfdataTrain = pandas.DataFrame(dataTrain)\n",
        "  print(\"Data Train yang sudah di split: \")\n",
        "  print(dfdataTrain)\n",
        "  print()\n",
        "  #buat prediksi kelas dataTest\n",
        "  dfdataTest = pandas.DataFrame(dataTest)\n",
        "  predictTest = dfdataTest['class']\n",
        "  dfdataTest = dfdataTest.drop(columns=[\"class\"])\n",
        "  print(\"Data Test yang sudah di split: \")\n",
        "  print(dfdataTest.head())\n",
        "  print()\n",
        "  #buat dataframe dengan penjumlahan rata2 perkelas\n",
        "  kelasTrain = dataTrain.groupby(['class']).mean()\n",
        "  fkelasTrain = pandas.DataFrame(kelasTrain)\n",
        "  #buat dataframe kelas yang sudah di sorting\n",
        "  kls = dfdataTrain[\"class\"]\n",
        "  fkelas = pandas.DataFrame(kls)\n",
        "  kl = []\n",
        "  for hi in range(len(fkelas)):\n",
        "    kl.append(fkelas.iloc[hi][0])\n",
        "  ks = list(dict.fromkeys(kl))\n",
        "  kelas=sorted(ks)\n",
        "  dataK = {'Kelas' : kelas}\n",
        "  dfkelas = pandas.DataFrame(dataK)\n",
        "  #memasukan isi dataTrain ke list\n",
        "  train = []\n",
        "  for i in range(len(fkelasTrain)):\n",
        "    b = []\n",
        "    for j in range(len(fkelasTrain.iloc[i])):\n",
        "      b.append(fkelasTrain.iloc[i][j])\n",
        "    train.append(b)\n",
        "  #memasukan isi dataTest ke list\n",
        "  test = []\n",
        "  for k in range(len(dfdataTest)):\n",
        "    b = []\n",
        "    for m in range(len(dfdataTest.iloc[k])):\n",
        "      b.append(dfdataTest.iloc[k][m])\n",
        "    test.append(b)\n",
        "else:\n",
        "  print(\"Anda belum memasukan dataset, mohon untuk memasukan dataset terlebih dahulu\")"
      ],
      "execution_count": null,
      "outputs": [
        {
          "output_type": "stream",
          "text": [
            "                 SELAMAT DATANG\n",
            "================================================\n",
            "1. Masukan dataset\n",
            "2. Klasifikasi\n",
            "3. Hitung akurasi\n",
            "4. Prediksi\n",
            "\n",
            "\n",
            "pilihan:  1\n",
            "\n"
          ],
          "name": "stdout"
        },
        {
          "output_type": "display_data",
          "data": {
            "text/html": [
              "\n",
              "     <input type=\"file\" id=\"files-d6e3fb45-55fc-4a02-b1d0-6bdd7cd2ca0e\" name=\"files[]\" multiple disabled\n",
              "        style=\"border:none\" />\n",
              "     <output id=\"result-d6e3fb45-55fc-4a02-b1d0-6bdd7cd2ca0e\">\n",
              "      Upload widget is only available when the cell has been executed in the\n",
              "      current browser session. Please rerun this cell to enable.\n",
              "      </output>\n",
              "      <script src=\"/nbextensions/google.colab/files.js\"></script> "
            ],
            "text/plain": [
              "<IPython.core.display.HTML object>"
            ]
          },
          "metadata": {
            "tags": []
          }
        },
        {
          "output_type": "stream",
          "text": [
            "Saving Glassasli.csv to Glassasli (1).csv\n",
            "dataset: \n",
            "      No  Refractive index    Sodium  ...    Barium  Iron  class\n",
            "0      0          0.991577  0.784810  ...  0.000000   0.0      1\n",
            "1      1          0.989361  0.799194  ...  0.000000   0.0      1\n",
            "2      2          0.988428  0.778481  ...  0.000000   0.0      1\n",
            "3      3          0.989393  0.760069  ...  0.000000   0.0      1\n",
            "4      4          0.989237  0.763521  ...  0.000000   0.0      1\n",
            "..   ...               ...       ...  ...       ...   ...    ...\n",
            "209  209          0.988461  0.813579  ...  0.336508   0.0      7\n",
            "210  210          0.988865  0.858458  ...  0.504762   0.0      7\n",
            "211  211          0.991342  0.826237  ...  0.520635   0.0      7\n",
            "212  212          0.988644  0.827388  ...  0.498413   0.0      7\n",
            "213  213          0.989035  0.818757  ...  0.530159   0.0      7\n",
            "\n",
            "[214 rows x 11 columns]\n",
            "\n",
            "\n",
            "Data Train yang sudah di split: \n",
            "      No  Refractive index    Sodium  ...    Barium      Iron  class\n",
            "210  210          0.988865  0.858458  ...  0.504762  0.000000      7\n",
            "211  211          0.991342  0.826237  ...  0.520635  0.000000      7\n",
            "193  193          0.989087  0.848677  ...  0.504762  0.156863      7\n",
            "71    71          0.989928  0.784810  ...  0.000000  0.627451      2\n",
            "9      9          0.989322  0.747986  ...  0.000000  0.215686      1\n",
            "..   ...               ...       ...  ...       ...       ...    ...\n",
            "63    63          0.992399  0.815305  ...  0.000000  0.000000      1\n",
            "33    33          0.989309  0.723245  ...  0.000000  0.117647      1\n",
            "143  143          0.989022  0.747986  ...  0.000000  0.000000      2\n",
            "212  212          0.988644  0.827388  ...  0.498413  0.000000      7\n",
            "37    37          0.989595  0.733026  ...  0.000000  0.000000      1\n",
            "\n",
            "[149 rows x 11 columns]\n",
            "\n",
            "Data Test yang sudah di split: \n",
            "      No  Refractive index    Sodium  ...   Calcium    Barium      Iron\n",
            "76    76          0.988604  0.773303  ...  0.495985  0.000000  0.000000\n",
            "55    55          0.989413  0.716341  ...  0.559605  0.000000  0.470588\n",
            "141  141          0.989947  0.759494  ...  0.519456  0.028571  0.333333\n",
            "112  112          0.995984  0.727273  ...  0.889438  0.000000  0.000000\n",
            "36    36          0.990326  0.799194  ...  0.542310  0.034921  0.000000\n",
            "\n",
            "[5 rows x 10 columns]\n",
            "\n"
          ],
          "name": "stdout"
        }
      ]
    },
    {
      "cell_type": "code",
      "metadata": {
        "id": "V2TomykuncRC",
        "outputId": "d4cdbb44-b4c6-43d0-a3dc-afbf33501705",
        "colab": {
          "base_uri": "https://localhost:8080/",
          "height": 187
        }
      },
      "source": [
        "import pandas\n",
        "import csv\n",
        "import math\n",
        "from sklearn.model_selection import train_test_split\n",
        "print(\"                 SELAMAT DATANG\")\n",
        "print(\"================================================\")\n",
        "print(\"1. Masukan dataset\")\n",
        "print(\"2. Klasifikasi\")\n",
        "print(\"3. Hitung akurasi\")\n",
        "print(\"4. Prediksi\")\n",
        "pilihan = \"2\" #@param {type:\"string\"}\n",
        "print()\n",
        "print()\n",
        "if pilihan == \"2\":\n",
        "  print(\"pilihan: \", pilihan)\n",
        "  print()\n",
        "  def sna(nama, test):\n",
        "    maximum = []\n",
        "    bd = []\n",
        "    d = 0\n",
        "    h = 0\n",
        "    for z in range(len(nama)):\n",
        "      ab = []\n",
        "      for cd in range(1):\n",
        "        ab.append(nama[z])\n",
        "        ab.append(test[z])\n",
        "      bd.append(ab)\n",
        "      maxi = max(bd[z])\n",
        "      maximum.append(maxi)\n",
        "      a = nama[z]\n",
        "      b = test[z]\n",
        "      an = float(a)\n",
        "      bn = float(b)\n",
        "      c = an*bn\n",
        "      d+=c\n",
        "    for y in range(len(maximum)):\n",
        "        e = maximum[y]\n",
        "        f = float(e)\n",
        "        g = f**2\n",
        "        h+=g\n",
        "    k = d / h\n",
        "    return k\n",
        "  def Un(nama):\n",
        "    un = []\n",
        "    square = []\n",
        "    jumlah = []\n",
        "    d = 0\n",
        "    for y in range(len(train)):\n",
        "      ar = sna(train[y], nama)\n",
        "      an = math.sqrt(ar)\n",
        "      square.append(an)\n",
        "      d+=an\n",
        "    for n in range(len(square)):\n",
        "      s = square[n] / d\n",
        "      un.append(s)\n",
        "    maxUn = max(un)\n",
        "    return maxUn, un\n",
        "  def prediction():\n",
        "    prediksi = []\n",
        "    for i in range(len(test)):\n",
        "      a = Un(test[i])\n",
        "      for j in range(len(a[1])):\n",
        "        if a[0] == a[1][j]:\n",
        "            prediksi.append(kelas[j])\n",
        "    dfdataTest[\"prediksi kelas\"] = pandas.Series(prediksi, index=dfdataTest.index)\n",
        "    return dfdataTest\n",
        "elif pilihan == \"3\" or pilihan == \"4\":\n",
        "  print(\"Anda belum melakukan klasifikasi\")"
      ],
      "execution_count": null,
      "outputs": [
        {
          "output_type": "stream",
          "text": [
            "                 SELAMAT DATANG\n",
            "================================================\n",
            "1. Masukan dataset\n",
            "2. Klasifikasi\n",
            "3. Hitung akurasi\n",
            "4. Prediksi\n",
            "\n",
            "\n",
            "pilihan:  2\n",
            "\n"
          ],
          "name": "stdout"
        }
      ]
    },
    {
      "cell_type": "code",
      "metadata": {
        "id": "6iXfK91ppquw",
        "outputId": "80416d8e-cd27-46c8-e3cc-a4da0d917622",
        "colab": {
          "base_uri": "https://localhost:8080/",
          "height": 204
        }
      },
      "source": [
        "from sklearn.metrics import accuracy_score\n",
        "print(\"                 SELAMAT DATANG\")\n",
        "print(\"================================================\")\n",
        "print(\"1. Masukan dataset\")\n",
        "print(\"2. Klasifikasi\")\n",
        "print(\"3. Hitung akurasi\")\n",
        "print(\"4. Prediksi\")\n",
        "pilihan = \"3\" #@param {type:\"string\"}\n",
        "print()\n",
        "print()\n",
        "if pilihan == \"3\":\n",
        "  print(\"pilihan: \", pilihan)\n",
        "  print()\n",
        "  #menghitung akurasi\n",
        "  predik = prediction()\n",
        "  print(\"Akurasi            : \", accuracy_score(predictTest, predik[\"prediksi kelas\"]))\n",
        "else:\n",
        "  print(\"pilihan: \", pilihan)\n",
        "  print(prediction())"
      ],
      "execution_count": null,
      "outputs": [
        {
          "output_type": "stream",
          "text": [
            "                 SELAMAT DATANG\n",
            "================================================\n",
            "1. Masukan dataset\n",
            "2. Klasifikasi\n",
            "3. Hitung akurasi\n",
            "4. Prediksi\n",
            "\n",
            "\n",
            "pilihan:  3\n",
            "\n",
            "Akurasi            :  0.8769230769230769\n"
          ],
          "name": "stdout"
        }
      ]
    },
    {
      "cell_type": "code",
      "metadata": {
        "id": "ZfXp4F2qU4PC",
        "outputId": "04265ff7-ab95-40ec-8193-d568dc231f08",
        "colab": {
          "base_uri": "https://localhost:8080/",
          "height": 408
        }
      },
      "source": [
        "from sklearn.metrics import accuracy_score\n",
        "print(\"                 SELAMAT DATANG\")\n",
        "print(\"================================================\")\n",
        "print(\"1. Masukan dataset\")\n",
        "print(\"2. Klasifikasi\")\n",
        "print(\"3. Hitung akurasi\")\n",
        "print(\"4. Prediksi\")\n",
        "pilihan = \"4\" #@param {type:\"string\"}\n",
        "print()\n",
        "print()\n",
        "if pilihan == \"3\":\n",
        "  print(\"pilihan: \", pilihan)\n",
        "  print()\n",
        "  #menghitung akurasi\n",
        "  predik = prediction()\n",
        "  print(\"Akurasi            : \", accuracy_score(predictTest, predik[\"prediksi kelas\"]))\n",
        "else:\n",
        "  print(\"pilihan: \", pilihan)\n",
        "  print(prediction())"
      ],
      "execution_count": null,
      "outputs": [
        {
          "output_type": "stream",
          "text": [
            "                 SELAMAT DATANG\n",
            "================================================\n",
            "1. Masukan dataset\n",
            "2. Klasifikasi\n",
            "3. Hitung akurasi\n",
            "4. Prediksi\n",
            "\n",
            "\n",
            "pilihan:  4\n",
            "      No  Refractive index    Sodium  ...    Barium      Iron  prediksi kelas\n",
            "76    76          0.988604  0.773303  ...  0.000000  0.000000               2\n",
            "55    55          0.989413  0.716341  ...  0.000000  0.470588               1\n",
            "141  141          0.989947  0.759494  ...  0.028571  0.333333               3\n",
            "112  112          0.995984  0.727273  ...  0.000000  0.000000               2\n",
            "36    36          0.990326  0.799194  ...  0.034921  0.000000               1\n",
            "..   ...               ...       ...  ...       ...       ...             ...\n",
            "206  206          0.988604  0.859609  ...  0.438095  0.000000               7\n",
            "5      5          0.988285  0.735903  ...  0.000000  0.509804               1\n",
            "198  198          0.987861  0.827388  ...  0.203175  0.000000               7\n",
            "151  151          0.991747  0.823936  ...  0.000000  0.000000               3\n",
            "127  127          0.991447  0.792865  ...  0.000000  0.333333               2\n",
            "\n",
            "[65 rows x 11 columns]\n"
          ],
          "name": "stdout"
        }
      ]
    }
  ]
}